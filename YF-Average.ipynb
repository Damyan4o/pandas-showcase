{
 "cells": [
  {
   "cell_type": "code",
   "execution_count": 111,
   "id": "d4d36abf-c434-4b5b-97ea-7ac7165c41ce",
   "metadata": {},
   "outputs": [],
   "source": [
    "import yfinance as yf\n",
    "import pandas as pd\n",
    "import numpy as np\n",
    "import matplotlib.pyplot as plt\n",
    "from sklearn.metrics import mean_squared_error, r2_score"
   ]
  },
  {
   "cell_type": "code",
   "execution_count": 113,
   "id": "461e7882-1baa-4d51-8a2c-a25550d0d02d",
   "metadata": {},
   "outputs": [],
   "source": [
    "dat = yf.Ticker(\"BTC-USD\")"
   ]
  },
  {
   "cell_type": "code",
   "execution_count": 115,
   "id": "80ef9303-1657-4701-b888-6a0162ccb202",
   "metadata": {},
   "outputs": [
    {
     "name": "stderr",
     "output_type": "stream",
     "text": [
      "[*********************100%***********************]  1 of 1 completed\n"
     ]
    },
    {
     "data": {
      "text/html": [
       "<div>\n",
       "<style scoped>\n",
       "    .dataframe tbody tr th:only-of-type {\n",
       "        vertical-align: middle;\n",
       "    }\n",
       "\n",
       "    .dataframe tbody tr th {\n",
       "        vertical-align: top;\n",
       "    }\n",
       "\n",
       "    .dataframe thead tr th {\n",
       "        text-align: left;\n",
       "    }\n",
       "\n",
       "    .dataframe thead tr:last-of-type th {\n",
       "        text-align: right;\n",
       "    }\n",
       "</style>\n",
       "<table border=\"1\" class=\"dataframe\">\n",
       "  <thead>\n",
       "    <tr>\n",
       "      <th>Price</th>\n",
       "      <th>Adj Close</th>\n",
       "      <th>Close</th>\n",
       "      <th>High</th>\n",
       "      <th>Low</th>\n",
       "      <th>Open</th>\n",
       "      <th>Volume</th>\n",
       "    </tr>\n",
       "    <tr>\n",
       "      <th>Ticker</th>\n",
       "      <th>BTC-USD</th>\n",
       "      <th>BTC-USD</th>\n",
       "      <th>BTC-USD</th>\n",
       "      <th>BTC-USD</th>\n",
       "      <th>BTC-USD</th>\n",
       "      <th>BTC-USD</th>\n",
       "    </tr>\n",
       "    <tr>\n",
       "      <th>Datetime</th>\n",
       "      <th></th>\n",
       "      <th></th>\n",
       "      <th></th>\n",
       "      <th></th>\n",
       "      <th></th>\n",
       "      <th></th>\n",
       "    </tr>\n",
       "  </thead>\n",
       "  <tbody>\n",
       "    <tr>\n",
       "      <th>2024-01-01 00:00:00+00:00</th>\n",
       "      <td>42477.253906</td>\n",
       "      <td>42477.253906</td>\n",
       "      <td>42517.601562</td>\n",
       "      <td>42277.726562</td>\n",
       "      <td>42280.234375</td>\n",
       "      <td>0</td>\n",
       "    </tr>\n",
       "    <tr>\n",
       "      <th>2024-01-01 01:00:00+00:00</th>\n",
       "      <td>42622.898438</td>\n",
       "      <td>42622.898438</td>\n",
       "      <td>42718.710938</td>\n",
       "      <td>42433.785156</td>\n",
       "      <td>42471.402344</td>\n",
       "      <td>200035328</td>\n",
       "    </tr>\n",
       "    <tr>\n",
       "      <th>2024-01-01 02:00:00+00:00</th>\n",
       "      <td>42576.601562</td>\n",
       "      <td>42576.601562</td>\n",
       "      <td>42611.335938</td>\n",
       "      <td>42506.359375</td>\n",
       "      <td>42611.335938</td>\n",
       "      <td>0</td>\n",
       "    </tr>\n",
       "    <tr>\n",
       "      <th>2024-01-01 03:00:00+00:00</th>\n",
       "      <td>42320.730469</td>\n",
       "      <td>42320.730469</td>\n",
       "      <td>42581.007812</td>\n",
       "      <td>42270.757812</td>\n",
       "      <td>42575.968750</td>\n",
       "      <td>118417408</td>\n",
       "    </tr>\n",
       "    <tr>\n",
       "      <th>2024-01-01 04:00:00+00:00</th>\n",
       "      <td>42387.164062</td>\n",
       "      <td>42387.164062</td>\n",
       "      <td>42387.164062</td>\n",
       "      <td>42227.984375</td>\n",
       "      <td>42325.042969</td>\n",
       "      <td>34720768</td>\n",
       "    </tr>\n",
       "  </tbody>\n",
       "</table>\n",
       "</div>"
      ],
      "text/plain": [
       "Price                         Adj Close         Close          High  \\\n",
       "Ticker                          BTC-USD       BTC-USD       BTC-USD   \n",
       "Datetime                                                              \n",
       "2024-01-01 00:00:00+00:00  42477.253906  42477.253906  42517.601562   \n",
       "2024-01-01 01:00:00+00:00  42622.898438  42622.898438  42718.710938   \n",
       "2024-01-01 02:00:00+00:00  42576.601562  42576.601562  42611.335938   \n",
       "2024-01-01 03:00:00+00:00  42320.730469  42320.730469  42581.007812   \n",
       "2024-01-01 04:00:00+00:00  42387.164062  42387.164062  42387.164062   \n",
       "\n",
       "Price                               Low          Open     Volume  \n",
       "Ticker                          BTC-USD       BTC-USD    BTC-USD  \n",
       "Datetime                                                          \n",
       "2024-01-01 00:00:00+00:00  42277.726562  42280.234375          0  \n",
       "2024-01-01 01:00:00+00:00  42433.785156  42471.402344  200035328  \n",
       "2024-01-01 02:00:00+00:00  42506.359375  42611.335938          0  \n",
       "2024-01-01 03:00:00+00:00  42270.757812  42575.968750  118417408  \n",
       "2024-01-01 04:00:00+00:00  42227.984375  42325.042969   34720768  "
      ]
     },
     "execution_count": 115,
     "metadata": {},
     "output_type": "execute_result"
    }
   ],
   "source": [
    "data = yf.download(tickers=['BTC-USD'], start = \"2024-01-01\", end = \"2024-11-25\", interval='1h')\n",
    "data.head()"
   ]
  },
  {
   "cell_type": "code",
   "execution_count": 117,
   "id": "52841f96-3712-4da0-9a6a-fa69a976a4de",
   "metadata": {},
   "outputs": [],
   "source": [
    "data = data.droplevel(level=[1], axis = 1)\n",
    "\n"
   ]
  },
  {
   "cell_type": "code",
   "execution_count": 123,
   "id": "07ad85ad-d657-4c3a-9160-0b9b707a1e15",
   "metadata": {},
   "outputs": [],
   "source": [
    "data['Current_Average'] = 0.0\n",
    "for index in range(data.shape[0]):\n",
    "    data.iloc[index,data.columns.get_loc('Current_Average')] = data[:(index+1)]['Close'].sum()/(index+1)"
   ]
  },
  {
   "cell_type": "code",
   "execution_count": 125,
   "id": "a0f5f20c-d98f-4208-b4af-03df4663319f",
   "metadata": {},
   "outputs": [
    {
     "data": {
      "text/html": [
       "<div>\n",
       "<style scoped>\n",
       "    .dataframe tbody tr th:only-of-type {\n",
       "        vertical-align: middle;\n",
       "    }\n",
       "\n",
       "    .dataframe tbody tr th {\n",
       "        vertical-align: top;\n",
       "    }\n",
       "\n",
       "    .dataframe thead th {\n",
       "        text-align: right;\n",
       "    }\n",
       "</style>\n",
       "<table border=\"1\" class=\"dataframe\">\n",
       "  <thead>\n",
       "    <tr style=\"text-align: right;\">\n",
       "      <th>Price</th>\n",
       "      <th>Adj Close</th>\n",
       "      <th>Close</th>\n",
       "      <th>High</th>\n",
       "      <th>Low</th>\n",
       "      <th>Open</th>\n",
       "      <th>Volume</th>\n",
       "      <th>Current_Average</th>\n",
       "    </tr>\n",
       "    <tr>\n",
       "      <th>Datetime</th>\n",
       "      <th></th>\n",
       "      <th></th>\n",
       "      <th></th>\n",
       "      <th></th>\n",
       "      <th></th>\n",
       "      <th></th>\n",
       "      <th></th>\n",
       "    </tr>\n",
       "  </thead>\n",
       "  <tbody>\n",
       "    <tr>\n",
       "      <th>2024-01-01 00:00:00+00:00</th>\n",
       "      <td>42477.253906</td>\n",
       "      <td>42477.253906</td>\n",
       "      <td>42517.601562</td>\n",
       "      <td>42277.726562</td>\n",
       "      <td>42280.234375</td>\n",
       "      <td>0</td>\n",
       "      <td>42477.253906</td>\n",
       "    </tr>\n",
       "    <tr>\n",
       "      <th>2024-01-01 01:00:00+00:00</th>\n",
       "      <td>42622.898438</td>\n",
       "      <td>42622.898438</td>\n",
       "      <td>42718.710938</td>\n",
       "      <td>42433.785156</td>\n",
       "      <td>42471.402344</td>\n",
       "      <td>200035328</td>\n",
       "      <td>42550.076172</td>\n",
       "    </tr>\n",
       "    <tr>\n",
       "      <th>2024-01-01 02:00:00+00:00</th>\n",
       "      <td>42576.601562</td>\n",
       "      <td>42576.601562</td>\n",
       "      <td>42611.335938</td>\n",
       "      <td>42506.359375</td>\n",
       "      <td>42611.335938</td>\n",
       "      <td>0</td>\n",
       "      <td>42558.917969</td>\n",
       "    </tr>\n",
       "    <tr>\n",
       "      <th>2024-01-01 03:00:00+00:00</th>\n",
       "      <td>42320.730469</td>\n",
       "      <td>42320.730469</td>\n",
       "      <td>42581.007812</td>\n",
       "      <td>42270.757812</td>\n",
       "      <td>42575.968750</td>\n",
       "      <td>118417408</td>\n",
       "      <td>42499.371094</td>\n",
       "    </tr>\n",
       "    <tr>\n",
       "      <th>2024-01-01 04:00:00+00:00</th>\n",
       "      <td>42387.164062</td>\n",
       "      <td>42387.164062</td>\n",
       "      <td>42387.164062</td>\n",
       "      <td>42227.984375</td>\n",
       "      <td>42325.042969</td>\n",
       "      <td>34720768</td>\n",
       "      <td>42476.929688</td>\n",
       "    </tr>\n",
       "  </tbody>\n",
       "</table>\n",
       "</div>"
      ],
      "text/plain": [
       "Price                         Adj Close         Close          High  \\\n",
       "Datetime                                                              \n",
       "2024-01-01 00:00:00+00:00  42477.253906  42477.253906  42517.601562   \n",
       "2024-01-01 01:00:00+00:00  42622.898438  42622.898438  42718.710938   \n",
       "2024-01-01 02:00:00+00:00  42576.601562  42576.601562  42611.335938   \n",
       "2024-01-01 03:00:00+00:00  42320.730469  42320.730469  42581.007812   \n",
       "2024-01-01 04:00:00+00:00  42387.164062  42387.164062  42387.164062   \n",
       "\n",
       "Price                               Low          Open     Volume  \\\n",
       "Datetime                                                           \n",
       "2024-01-01 00:00:00+00:00  42277.726562  42280.234375          0   \n",
       "2024-01-01 01:00:00+00:00  42433.785156  42471.402344  200035328   \n",
       "2024-01-01 02:00:00+00:00  42506.359375  42611.335938          0   \n",
       "2024-01-01 03:00:00+00:00  42270.757812  42575.968750  118417408   \n",
       "2024-01-01 04:00:00+00:00  42227.984375  42325.042969   34720768   \n",
       "\n",
       "Price                      Current_Average  \n",
       "Datetime                                    \n",
       "2024-01-01 00:00:00+00:00     42477.253906  \n",
       "2024-01-01 01:00:00+00:00     42550.076172  \n",
       "2024-01-01 02:00:00+00:00     42558.917969  \n",
       "2024-01-01 03:00:00+00:00     42499.371094  \n",
       "2024-01-01 04:00:00+00:00     42476.929688  "
      ]
     },
     "execution_count": 125,
     "metadata": {},
     "output_type": "execute_result"
    }
   ],
   "source": [
    "data.head()"
   ]
  },
  {
   "cell_type": "code",
   "execution_count": 129,
   "id": "5d2f0e17-3c79-4344-a306-d22a26ef7e84",
   "metadata": {},
   "outputs": [],
   "source": [
    "training_data = data[['Close', 'Current_Average']]\n",
    "training_close = np.array(training_data['Close'][\"2024-1-1\":\"2024-9-30\"])\n",
    "training_avg = np.array(training_data['Current_Average'][\"2024-1-1\":\"2024-9-30\"])\n",
    "training_avg = training_avg.reshape(-1,1)"
   ]
  },
  {
   "cell_type": "code",
   "execution_count": 131,
   "id": "ff649b09-b965-4954-a28e-d44ad7c892bd",
   "metadata": {},
   "outputs": [],
   "source": [
    "from sklearn.linear_model import LinearRegression\n",
    "regr = LinearRegression().fit(training_avg, training_close)\n"
   ]
  },
  {
   "cell_type": "code",
   "execution_count": 133,
   "id": "bdbabbe5-2655-4387-84f4-6258aec78a4e",
   "metadata": {},
   "outputs": [
    {
     "name": "stdout",
     "output_type": "stream",
     "text": [
      "Coefficients: \n",
      " [0.89543124]\n",
      "Mean squared error: 188418560.40\n",
      "Coefficient of determination: -0.36\n"
     ]
    }
   ],
   "source": [
    "test_avg = (np.array(training_data['Current_Average'][\"2024-10-1\":\"2024-11-25\"])).reshape(-1,1)\n",
    "test_close = np.array(training_data['Close'][\"2024-10-1\":\"2024-11-25\"])\n",
    "prediction = regr.predict(test_avg)\n",
    "# The coefficients\n",
    "print(\"Coefficients: \\n\", regr.coef_)\n",
    "# The mean squared error\n",
    "print(\"Mean squared error: %.2f\" % mean_squared_error(test_close, prediction))\n",
    "# The coefficient of determination: 1 is perfect prediction\n",
    "print(\"Coefficient of determination: %.2f\" % r2_score(test_close, prediction))"
   ]
  },
  {
   "cell_type": "code",
   "execution_count": 135,
   "id": "4711b8b6-34f4-450e-8a4f-bf9196ed3660",
   "metadata": {},
   "outputs": [
    {
     "data": {
      "image/png": "[encoded data removed]",
      "text/plain": [
       "<Figure size 640x480 with 1 Axes>"
      ]
     },
     "metadata": {},
     "output_type": "display_data"
    }
   ],
   "source": [
    "plt.scatter(test_avg, test_close, color=\"black\")\n",
    "plt.plot(test_avg, prediction, color=\"blue\", linewidth=3)\n",
    "\n",
    "plt.xticks(())\n",
    "plt.yticks(())\n",
    "\n",
    "plt.show()"
   ]
  },
  {
   "cell_type": "code",
   "execution_count": null,
   "id": "2f5abf4c-f49b-4e72-a8aa-31c9277ef59c",
   "metadata": {},
   "outputs": [],
   "source": []
  }
 ],
 "metadata": {
  "kernelspec": {
   "display_name": "Python 3 (ipykernel)",
   "language": "python",
   "name": "python3"
  },
  "language_info": {
   "codemirror_mode": {
    "name": "ipython",
    "version": 3
   },
   "file_extension": ".py",
   "mimetype": "text/x-python",
   "name": "python",
   "nbconvert_exporter": "python",
   "pygments_lexer": "ipython3",
   "version": "3.12.7"
  }
 },
 "nbformat": 4,
 "nbformat_minor": 5
}
